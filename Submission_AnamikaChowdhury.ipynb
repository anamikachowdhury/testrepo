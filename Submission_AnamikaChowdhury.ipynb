{
 "cells": [
  {
   "cell_type": "markdown",
   "metadata": {},
   "source": [
    "<center>\n",
    "    <img src=\"https://s3-api.us-geo.objectstorage.softlayer.net/cf-courses-data/CognitiveClass/Logos/organization_logo/organization_logo.png\" width=\"300\" alt=\"cognitiveclass.ai logo\"  />\n",
    "</center>\n"
   ]
  },
  {
   "cell_type": "markdown",
   "metadata": {},
   "source": [
    "<h1>My Jupyter Notebook on IBM Watson Studio</h1>"
   ]
  },
  {
   "cell_type": "markdown",
   "metadata": {
    "tags": []
   },
   "source": [
    "<h3 style=\"font-weight:bold\">Anamika Chowdhury</h3>\n",
    "<h3 style=\"font-style:italic\">Process Engineer, Lam Research</h3>"
   ]
  },
  {
   "cell_type": "markdown",
   "metadata": {},
   "source": [
    "<p style=\"font-style:italic\"> I am interested in data-science as it is a strongly emerging topic in today's world where data is available in abundance. Organizations are trying to employ data-based tools to fasten their productions processes. I think learning data-science add to my skill-set greatly. </p>"
   ]
  },
  {
   "cell_type": "markdown",
   "metadata": {},
   "source": [
    "<h3>Print fibonacci series below</h3>"
   ]
  },
  {
   "cell_type": "code",
   "execution_count": 1,
   "metadata": {},
   "outputs": [
    {
     "name": "stdout",
     "output_type": "stream",
     "text": [
      "0\n",
      "1\n",
      "1\n",
      "2\n",
      "3\n",
      "5\n",
      "8\n",
      "13\n",
      "21\n",
      "34\n",
      "55\n",
      "89\n"
     ]
    }
   ],
   "source": [
    "n1 = 0\n",
    "n2 = 1\n",
    "print(n1)\n",
    "print(n2)\n",
    "\n",
    "count = 0\n",
    "while(count<10):\n",
    "    n2_new = n1 + n2\n",
    "    n1 = n2\n",
    "    n2 = n2_new\n",
    "    print(n2)\n",
    "    count = count+1"
   ]
  },
  {
   "cell_type": "markdown",
   "metadata": {},
   "source": [
    "<hr>\n",
    "<ul> This is a bulleted list\n",
    "    <li> Item 1</li>\n",
    "    <li> Item 2</li>\n",
    "    <li> Item 3</li>\n",
    "</ul>\n",
    "<hr>\n",
    "<ol> This is a numbered list\n",
    "    <li> Item 1</li>\n",
    "    <li> Item 2</li>\n",
    "    <li> Item 3</li>\n",
    "</ol>\n",
    "<hr>\n",
    "\n",
    "<p>Here is a link: </p><a href=\"https://dataplatform.cloud.ibm.com/gallery\">IBM Cloud Gallery</a> \n",
    "\n",
    "# Below is a table\n",
    "\n",
    "| Name | Age | Grade |\n",
    "| ------ | ------ | ------ |\n",
    "| ABC | 5 | Nursery |\n",
    "| DEF | 6 | Kindergarten |"
   ]
  },
  {
   "cell_type": "code",
   "execution_count": null,
   "metadata": {},
   "outputs": [],
   "source": []
  }
 ],
 "metadata": {
  "kernelspec": {
   "display_name": "Python",
   "language": "python",
   "name": "conda-env-python-py"
  },
  "language_info": {
   "codemirror_mode": {
    "name": "ipython",
    "version": 3
   },
   "file_extension": ".py",
   "mimetype": "text/x-python",
   "name": "python",
   "nbconvert_exporter": "python",
   "pygments_lexer": "ipython3",
   "version": "3.7.12"
  }
 },
 "nbformat": 4,
 "nbformat_minor": 4
}
